{
 "cells": [
  {
   "cell_type": "markdown",
   "id": "bb3d51dd",
   "metadata": {},
   "source": [
    "\n",
    "# Tema 4\n",
    "\n",
    "\n",
    "## Scrie un program care:\n",
    "\n",
    "\n",
    "##### Cere utilizatorului să introducă un PIN. \n",
    "##### Transformă parola în litere mici (lower()).\n",
    "##### Evaluează parola astfel:\n",
    "##### Parolă slabă: dacă are mai puțin de 6 caractere.\n",
    "##### Parolă medie: dacă are 6-10 caractere.\n",
    "##### Parolă sigură: dacă are mai mult de 10 caractere.\n",
    "##### Afișează mesajul corespunzător: „Parolă slabă”, „Parolă medie” sau „Parolă sigură”."
   ]
  },
  {
   "cell_type": "markdown",
   "id": "72e2bab2",
   "metadata": {},
   "source": []
  },
  {
   "cell_type": "code",
   "execution_count": 16,
   "id": "697f08ee",
   "metadata": {},
   "outputs": [
    {
     "name": "stdout",
     "output_type": "stream",
     "text": [
      "Parola: ghy678 este o parola medie\n"
     ]
    }
   ],
   "source": [
    "pin_input = input('Enter PIN:')\n",
    "\n",
    "if len(pin_input) < 6:\n",
    "    print('Parola:', pin_input.lower() , 'este o parola slaba')\n",
    "elif len(pin_input) >= 6 and len(pin_input) <= 10:\n",
    "    print('Parola:', pin_input.lower() , 'este o parola medie')\n",
    "else: print('Parola:', pin_input.lower() , ' este o parola sigura')\n"
   ]
  }
 ],
 "metadata": {
  "kernelspec": {
   "display_name": "Python 3",
   "language": "python",
   "name": "python3"
  },
  "language_info": {
   "codemirror_mode": {
    "name": "ipython",
    "version": 3
   },
   "file_extension": ".py",
   "mimetype": "text/x-python",
   "name": "python",
   "nbconvert_exporter": "python",
   "pygments_lexer": "ipython3",
   "version": "3.13.6"
  }
 },
 "nbformat": 4,
 "nbformat_minor": 5
}
