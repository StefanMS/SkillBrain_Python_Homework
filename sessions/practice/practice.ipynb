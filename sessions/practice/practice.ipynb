{
 "cells": [
  {
   "cell_type": "markdown",
   "id": "ba3d029e",
   "metadata": {},
   "source": [
    "# Mini Project"
   ]
  },
  {
   "cell_type": "markdown",
   "id": "752c5534",
   "metadata": {},
   "source": [
    "#### Mini Project1"
   ]
  },
  {
   "cell_type": "code",
   "execution_count": 3,
   "id": "a4d584cd",
   "metadata": {},
   "outputs": [
    {
     "name": "stdout",
     "output_type": "stream",
     "text": [
      "\n",
      "I'm Happy for You!\n"
     ]
    }
   ],
   "source": [
    "feeling = input(\"\\nHow do you feel? \").lower()\n",
    "if feeling == \"ok\":\n",
    "    print(\"\\nI'm Happy for You!\")\n",
    "elif feeling == \"bad\":\n",
    "    print(\"\\nEverything will be fine. Can I help you with something?\")\n",
    "else:\n",
    "    print(\"\\nDo you want to talk about it?\")"
   ]
  },
  {
   "cell_type": "markdown",
   "id": "19532be7",
   "metadata": {},
   "source": [
    "### 2"
   ]
  },
  {
   "cell_type": "code",
   "execution_count": null,
   "id": "4ed93400",
   "metadata": {},
   "outputs": [
    {
     "name": "stdout",
     "output_type": "stream",
     "text": [
      "Welcome! Your balance is $10000\n",
      "Insufficient funds!\n"
     ]
    }
   ],
   "source": [
    "# Real-world example: ATM Machine Logic\n",
    "max_attempts = 3\n",
    "attempts = 0\n",
    "correct_password = \"1234\"\n",
    "\n",
    "while attempts < max_attempts:\n",
    "    password = input(f\"Enter password (Attempt {attempts + 1}/{max_attempts}): \")\n",
    "    if password == correct_password:\n",
    "        print(\"Access granted! Welcome!\")\n",
    "        break\n",
    "    else:\n",
    "        attempts += 1\n",
    "        if attempts < max_attempts:\n",
    "            print(f\"Wrong password. {max_attempts - attempts} attempts left.\")\n",
    "        else:\n",
    "            print(\"Account locked. Too many failed attempts.\")\n",
    "balance = 10000\n",
    "pin = \"1234\"\n",
    "\n",
    "entered_pin = input(\"Enter your PIN: \")\n",
    "if entered_pin == pin:\n",
    "    print(f\"Welcome! Your balance is ${balance}\")\n",
    "    \n",
    "    amount = float(input(\"How much would you like to withdraw? $\"))\n",
    "    if amount <= balance:\n",
    "        balance -= amount\n",
    "        print(f\"Transaction successful! New balance: ${balance}\")\n",
    "    else:\n",
    "        print(\"Insufficient funds!\")\n",
    "else:\n",
    "    print(\"Invalid PIN. Access denied!\")\n"
   ]
  },
  {
   "cell_type": "markdown",
   "id": "46534ba0",
   "metadata": {},
   "source": [
    "### 3"
   ]
  }
 ],
 "metadata": {
  "kernelspec": {
   "display_name": "Python 3",
   "language": "python",
   "name": "python3"
  },
  "language_info": {
   "codemirror_mode": {
    "name": "ipython",
    "version": 3
   },
   "file_extension": ".py",
   "mimetype": "text/x-python",
   "name": "python",
   "nbconvert_exporter": "python",
   "pygments_lexer": "ipython3",
   "version": "3.9.6"
  }
 },
 "nbformat": 4,
 "nbformat_minor": 5
}
