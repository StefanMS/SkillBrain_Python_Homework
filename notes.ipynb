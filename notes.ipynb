{
 "cells": [
  {
   "cell_type": "markdown",
   "id": "efa9e0f3",
   "metadata": {},
   "source": [
    " # This notes3.2"
   ]
  },
  {
   "cell_type": "markdown",
   "id": "822308c9",
   "metadata": {},
   "source": [
    " ## This notes3.2"
   ]
  },
  {
   "cell_type": "markdown",
   "id": "409b2bf3",
   "metadata": {},
   "source": [
    "### hello world print"
   ]
  },
  {
   "cell_type": "code",
   "execution_count": 1,
   "id": "57d4b182",
   "metadata": {},
   "outputs": [
    {
     "name": "stdout",
     "output_type": "stream",
     "text": [
      "Hello World\n"
     ]
    }
   ],
   "source": [
    "print (\"Hello World\")"
   ]
  },
  {
   "cell_type": "markdown",
   "id": "c6d46b4c",
   "metadata": {},
   "source": [
    "\"in\" operator"
   ]
  },
  {
   "cell_type": "code",
   "execution_count": 2,
   "id": "331a1405",
   "metadata": {},
   "outputs": [
    {
     "name": "stdout",
     "output_type": "stream",
     "text": [
      "I found A in the word\n"
     ]
    }
   ],
   "source": [
    "if \"a\" in \"abstract\":\n",
    "\n",
    "    print (\"I found A in the word\")"
   ]
  },
  {
   "cell_type": "code",
   "execution_count": 3,
   "id": "ae5ef05d",
   "metadata": {},
   "outputs": [
    {
     "name": "stdout",
     "output_type": "stream",
     "text": [
      "True\n"
     ]
    }
   ],
   "source": [
    "if \"act\" in \"abstract\":\n",
    "    print(True)"
   ]
  },
  {
   "cell_type": "code",
   "execution_count": null,
   "id": "ce14f53f",
   "metadata": {},
   "outputs": [
    {
     "name": "stdout",
     "output_type": "stream",
     "text": [
      "THE LETTER YOU ENTERED IS A VOWEL\n"
     ]
    }
   ],
   "source": [
    "vowel = \"aeiou\"\n",
    "enter_letter = input(\"Write a Letter\").lower()\n",
    "if enter_letter in vowel:\n",
    "    print (\"the letter you entered is a vowel\".upper())\n",
    "else:\n",
    "    print (\"the letter you entered is consonant\")"
   ]
  }
 ],
 "metadata": {
  "kernelspec": {
   "display_name": "Python 3",
   "language": "python",
   "name": "python3"
  },
  "language_info": {
   "codemirror_mode": {
    "name": "ipython",
    "version": 3
   },
   "file_extension": ".py",
   "mimetype": "text/x-python",
   "name": "python",
   "nbconvert_exporter": "python",
   "pygments_lexer": "ipython3",
   "version": "3.9.6"
  }
 },
 "nbformat": 4,
 "nbformat_minor": 5
}
